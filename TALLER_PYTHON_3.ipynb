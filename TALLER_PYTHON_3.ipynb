{
  "nbformat": 4,
  "nbformat_minor": 0,
  "metadata": {
    "colab": {
      "provenance": []
    },
    "kernelspec": {
      "name": "python3",
      "display_name": "Python 3"
    },
    "language_info": {
      "name": "python"
    }
  },
  "cells": [
    {
      "cell_type": "markdown",
      "source": [
        "#TALLER PYTHON TERCER CORTE\n",
        "Laura Valentina Duarte - 63201107\n",
        "David Santiago Pedraza - 63201120\n",
        "\n"
      ],
      "metadata": {
        "id": "Ke5yWn0wD4-u"
      }
    },
    {
      "cell_type": "code",
      "source": [
        "pip install wooldridge"
      ],
      "metadata": {
        "colab": {
          "base_uri": "https://localhost:8080/"
        },
        "id": "Ncc5cGrhMxR3",
        "outputId": "a8e21f21-0991-40ab-8a05-e906d17888cf"
      },
      "execution_count": 81,
      "outputs": [
        {
          "output_type": "stream",
          "name": "stdout",
          "text": [
            "Looking in indexes: https://pypi.org/simple, https://us-python.pkg.dev/colab-wheels/public/simple/\n",
            "Requirement already satisfied: wooldridge in /usr/local/lib/python3.10/dist-packages (0.4.4)\n",
            "Requirement already satisfied: pandas in /usr/local/lib/python3.10/dist-packages (from wooldridge) (1.5.3)\n",
            "Requirement already satisfied: python-dateutil>=2.8.1 in /usr/local/lib/python3.10/dist-packages (from pandas->wooldridge) (2.8.2)\n",
            "Requirement already satisfied: pytz>=2020.1 in /usr/local/lib/python3.10/dist-packages (from pandas->wooldridge) (2022.7.1)\n",
            "Requirement already satisfied: numpy>=1.21.0 in /usr/local/lib/python3.10/dist-packages (from pandas->wooldridge) (1.22.4)\n",
            "Requirement already satisfied: six>=1.5 in /usr/local/lib/python3.10/dist-packages (from python-dateutil>=2.8.1->pandas->wooldridge) (1.16.0)\n"
          ]
        }
      ]
    },
    {
      "cell_type": "code",
      "source": [
        "import pandas as pd\n",
        "import numpy as np\n",
        "import wooldridge as wd\n",
        "import matplotlib.pyplot as plt\n",
        "import scipy.stats as st"
      ],
      "metadata": {
        "id": "gqKAIXcAM1HW"
      },
      "execution_count": 121,
      "outputs": []
    },
    {
      "cell_type": "code",
      "source": [
        "wage = wd.data('wage1')[['wage','educ']]\n",
        "y = wage['wage']\n",
        "x = wage['educ']"
      ],
      "metadata": {
        "id": "tOIJ2vzhM3LG"
      },
      "execution_count": 122,
      "outputs": []
    },
    {
      "cell_type": "code",
      "source": [
        "plt.scatter(x,y)"
      ],
      "metadata": {
        "colab": {
          "base_uri": "https://localhost:8080/",
          "height": 447
        },
        "id": "p8XjdP2jQ3Pe",
        "outputId": "5686aa4c-70a6-470f-8259-8467af7ae9f8"
      },
      "execution_count": 123,
      "outputs": [
        {
          "output_type": "execute_result",
          "data": {
            "text/plain": [
              "<matplotlib.collections.PathCollection at 0x7f8b4747cf40>"
            ]
          },
          "metadata": {},
          "execution_count": 123
        },
        {
          "output_type": "display_data",
          "data": {
            "text/plain": [
              "<Figure size 640x480 with 1 Axes>"
            ],
            "image/png": "[encoded data removed]"
          },
          "metadata": {}
        }
      ]
    },
    {
      "cell_type": "markdown",
      "source": [
        "IDENTIFICACIÓN MÉTODO WHITE"
      ],
      "metadata": {
        "id": "w931PsrNQ83O"
      }
    },
    {
      "cell_type": "code",
      "source": [
        "x = np.c_[np.ones(len(x)),x]"
      ],
      "metadata": {
        "id": "69uJ42nbRAie"
      },
      "execution_count": 124,
      "outputs": []
    },
    {
      "cell_type": "code",
      "source": [
        "betas = np.linalg.inv(x.T.dot(x)).dot(x.T.dot(y))"
      ],
      "metadata": {
        "id": "xZkvGX6ZRI_9"
      },
      "execution_count": 126,
      "outputs": []
    },
    {
      "cell_type": "code",
      "source": [
        "y_est = x.dot(betas)\n",
        "y_est_2 = y_est ** 2\n",
        "u_est = y - x.dot(betas)\n",
        "u_est_2 = u_est ** 2"
      ],
      "metadata": {
        "id": "6upNIsl_RVac"
      },
      "execution_count": 129,
      "outputs": []
    },
    {
      "cell_type": "code",
      "source": [
        "x_u = np.c_[np.ones(len(y_est)), y_est, y_est_2]"
      ],
      "metadata": {
        "id": "FeV1Uns9R3OM"
      },
      "execution_count": 130,
      "outputs": []
    },
    {
      "cell_type": "code",
      "source": [
        "betas_u = np.linalg.inv(x_u.T.dot(x_u)).dot(x_u.T.dot(u_est_2))"
      ],
      "metadata": {
        "id": "CHKwNcQsSSV7"
      },
      "execution_count": 132,
      "outputs": []
    },
    {
      "cell_type": "code",
      "source": [
        "u_est_2_est = x_u.dot(betas_u)\n",
        "sst = sum((u_est_2 - u_est_2.mean()) ** 2)\n",
        "sse = sum((u_est_2_est - u_est_2.mean()) ** 2)\n",
        "r2 = sse / sst"
      ],
      "metadata": {
        "id": "KHqxzxOJSfpK"
      },
      "execution_count": 133,
      "outputs": []
    },
    {
      "cell_type": "code",
      "source": [
        "r2"
      ],
      "metadata": {
        "colab": {
          "base_uri": "https://localhost:8080/"
        },
        "id": "QcBQtt6TS-OS",
        "outputId": "07447e76-ce78-47d3-a31d-5c6c6fb8766c"
      },
      "execution_count": 134,
      "outputs": [
        {
          "output_type": "execute_result",
          "data": {
            "text/plain": [
              "0.044183563582538124"
            ]
          },
          "metadata": {},
          "execution_count": 134
        }
      ]
    },
    {
      "cell_type": "code",
      "source": [
        "chi_stat = len(x_u) * r2"
      ],
      "metadata": {
        "id": "Fj5YJUUVS-_z"
      },
      "execution_count": 137,
      "outputs": []
    },
    {
      "cell_type": "code",
      "source": [
        "chi_stat"
      ],
      "metadata": {
        "colab": {
          "base_uri": "https://localhost:8080/"
        },
        "id": "n9czKD1YTIZJ",
        "outputId": "250f47ee-65e3-4ac0-90b4-b3e79484c594"
      },
      "execution_count": 138,
      "outputs": [
        {
          "output_type": "execute_result",
          "data": {
            "text/plain": [
              "23.240554444415054"
            ]
          },
          "metadata": {},
          "execution_count": 138
        }
      ]
    },
    {
      "cell_type": "code",
      "source": [
        "chi = st.chi2(2)\n",
        "p_valor = 1 - chi.cdf(chi_stat)"
      ],
      "metadata": {
        "id": "kifennobTRQ5"
      },
      "execution_count": 139,
      "outputs": []
    },
    {
      "cell_type": "code",
      "source": [
        "p_valor"
      ],
      "metadata": {
        "colab": {
          "base_uri": "https://localhost:8080/"
        },
        "id": "jmiWjvp5TbSD",
        "outputId": "6313e734-787f-45cf-bf11-36556ea9c0ef"
      },
      "execution_count": 140,
      "outputs": [
        {
          "output_type": "execute_result",
          "data": {
            "text/plain": [
              "8.982096656673377e-06"
            ]
          },
          "metadata": {},
          "execution_count": 140
        }
      ]
    },
    {
      "cell_type": "code",
      "source": [],
      "metadata": {
        "id": "KLaV-GtgTcUj"
      },
      "execution_count": null,
      "outputs": []
    },
    {
      "cell_type": "markdown",
      "source": [
        "El resultado del P_Valor da seis ceros izquierda lo que sgnifica que **SI** es heterocedastico en el modelo."
      ],
      "metadata": {
        "id": "JW7u3SxCTdC9"
      }
    }
  ]
}